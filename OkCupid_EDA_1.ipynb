{
  "nbformat": 4,
  "nbformat_minor": 0,
  "metadata": {
    "colab": {
      "name": "OkCupid EDA #1",
      "version": "0.3.2",
      "views": {},
      "default_view": {},
      "provenance": [],
      "collapsed_sections": []
    },
    "kernelspec": {
      "name": "python3",
      "display_name": "Python 3"
    }
  },
  "cells": [
    {
      "metadata": {
        "id": "FgI5Zd8Wa2b6",
        "colab_type": "text"
      },
      "cell_type": "markdown",
      "source": [
        "\n",
        "# OKCupid Exploratory Data Analysis\n",
        "\n"
      ]
    },
    {
      "metadata": {
        "id": "YFlsOMBLIFQL",
        "colab_type": "text"
      },
      "cell_type": "markdown",
      "source": [
        " **Marketing Standardization Analysis**"
      ]
    },
    {
      "metadata": {
        "id": "yJMVjhZJGhV5",
        "colab_type": "text"
      },
      "cell_type": "markdown",
      "source": [
        "**Objective**\n",
        "\n",
        "\n",
        "*   Identify market segments according to age, sex, and income\n",
        "  *   Descriptive statistics: median user characteristics\n",
        "*   Describe features of largest segment of median user characteristics\n",
        "\n",
        "**Key Takeaways**\n",
        "\n",
        "\n",
        "*   Men outnumber women 3:2 on OkCupid\n",
        "\n",
        "*   The median user is a 32 years old 5'7\" straight white educated male living in San Francisco that makes $60,000 a year, drinks socially, and loves dogs.\n",
        "\n",
        "\n",
        "*   The average man makes 15-25K more then women\n",
        "\n",
        "**Sections**\n",
        "\n",
        "\n",
        "1.  Who are OkCupid customers?\n",
        "\n",
        "2.  Potential for pet food Advertisements? \n",
        "\n",
        "3.   Random Comparison\n",
        "  *   Height vs. Income (Inconclusive)\n",
        "\n",
        "\n",
        "\n",
        "\n",
        "\n",
        "\n",
        "\n",
        "\n",
        "\n",
        "\n",
        "\n",
        "\n",
        "\n",
        "\n",
        "\n"
      ]
    },
    {
      "metadata": {
        "id": "AgKH0YFLfFJz",
        "colab_type": "text"
      },
      "cell_type": "markdown",
      "source": [
        "**Data Cleaning**\n",
        "\n",
        "\n"
      ]
    },
    {
      "metadata": {
        "id": "NtlLoQjS2dTJ",
        "colab_type": "code",
        "colab": {
          "autoexec": {
            "startup": false,
            "wait_interval": 0
          },
          "base_uri": "https://localhost:8080/",
          "height": 610
        },
        "outputId": "c881d636-5a6f-4d1e-b86c-2c8f5ce7bf48",
        "executionInfo": {
          "status": "ok",
          "timestamp": 1530322776015,
          "user_tz": 420,
          "elapsed": 1085,
          "user": {
            "displayName": "Leifur Sigurdsson",
            "photoUrl": "https://lh3.googleusercontent.com/a/default-user=s128",
            "userId": "111769075670530589535"
          }
        }
      },
      "cell_type": "code",
      "source": [
        "import pandas as pd\n",
        "import numpy as np\n",
        "import matplotlib.pyplot as plt\n",
        "import seaborn as sns\n",
        "from scipy import stats\n",
        "%matplotlib inline\n",
        "  \n",
        "  \n",
        "df_okc = pd.read_csv(\"https://raw.githubusercontent.com/MissionU/python_public/master/profiles_no_essay.csv\")\n",
        "\n",
        "\n",
        "\n",
        "df_okc.tail()"
      ],
      "execution_count": 30,
      "outputs": [
        {
          "output_type": "stream",
          "text": [
            "/usr/local/lib/python3.6/dist-packages/IPython/core/interactiveshell.py:2718: DtypeWarning: Columns (0,7,8) have mixed types. Specify dtype option on import or set low_memory=False.\n",
            "  interactivity=interactivity, compiler=compiler, result=result)\n"
          ],
          "name": "stderr"
        },
        {
          "output_type": "execute_result",
          "data": {
            "text/html": [
              "<div>\n",
              "<style scoped>\n",
              "    .dataframe tbody tr th:only-of-type {\n",
              "        vertical-align: middle;\n",
              "    }\n",
              "\n",
              "    .dataframe tbody tr th {\n",
              "        vertical-align: top;\n",
              "    }\n",
              "\n",
              "    .dataframe thead th {\n",
              "        text-align: right;\n",
              "    }\n",
              "</style>\n",
              "<table border=\"1\" class=\"dataframe\">\n",
              "  <thead>\n",
              "    <tr style=\"text-align: right;\">\n",
              "      <th></th>\n",
              "      <th>age</th>\n",
              "      <th>body_type</th>\n",
              "      <th>diet</th>\n",
              "      <th>drinks</th>\n",
              "      <th>drugs</th>\n",
              "      <th>education</th>\n",
              "      <th>ethnicity</th>\n",
              "      <th>height</th>\n",
              "      <th>income</th>\n",
              "      <th>job</th>\n",
              "      <th>...</th>\n",
              "      <th>location</th>\n",
              "      <th>offspring</th>\n",
              "      <th>orientation</th>\n",
              "      <th>pets</th>\n",
              "      <th>religion</th>\n",
              "      <th>sex</th>\n",
              "      <th>sign</th>\n",
              "      <th>smokes</th>\n",
              "      <th>speaks</th>\n",
              "      <th>status</th>\n",
              "    </tr>\n",
              "  </thead>\n",
              "  <tbody>\n",
              "    <tr>\n",
              "      <th>59940</th>\n",
              "      <td>59</td>\n",
              "      <td>NaN</td>\n",
              "      <td>NaN</td>\n",
              "      <td>socially</td>\n",
              "      <td>never</td>\n",
              "      <td>graduated from college/university</td>\n",
              "      <td>NaN</td>\n",
              "      <td>62</td>\n",
              "      <td>-1</td>\n",
              "      <td>sales / marketing / biz dev</td>\n",
              "      <td>...</td>\n",
              "      <td>oakland, california</td>\n",
              "      <td>has kids</td>\n",
              "      <td>straight</td>\n",
              "      <td>has dogs</td>\n",
              "      <td>catholicism but not too serious about it</td>\n",
              "      <td>f</td>\n",
              "      <td>cancer and it&amp;rsquo;s fun to think about</td>\n",
              "      <td>no</td>\n",
              "      <td>english</td>\n",
              "      <td>single</td>\n",
              "    </tr>\n",
              "    <tr>\n",
              "      <th>59941</th>\n",
              "      <td>24</td>\n",
              "      <td>fit</td>\n",
              "      <td>mostly anything</td>\n",
              "      <td>often</td>\n",
              "      <td>sometimes</td>\n",
              "      <td>working on college/university</td>\n",
              "      <td>white, other</td>\n",
              "      <td>72</td>\n",
              "      <td>-1</td>\n",
              "      <td>entertainment / media</td>\n",
              "      <td>...</td>\n",
              "      <td>san francisco, california</td>\n",
              "      <td>doesn&amp;rsquo;t have kids</td>\n",
              "      <td>straight</td>\n",
              "      <td>likes dogs and likes cats</td>\n",
              "      <td>agnosticism</td>\n",
              "      <td>m</td>\n",
              "      <td>leo but it doesn&amp;rsquo;t matter</td>\n",
              "      <td>no</td>\n",
              "      <td>english (fluently)</td>\n",
              "      <td>single</td>\n",
              "    </tr>\n",
              "    <tr>\n",
              "      <th>59942</th>\n",
              "      <td>42</td>\n",
              "      <td>average</td>\n",
              "      <td>mostly anything</td>\n",
              "      <td>not at all</td>\n",
              "      <td>never</td>\n",
              "      <td>graduated from masters program</td>\n",
              "      <td>asian</td>\n",
              "      <td>71</td>\n",
              "      <td>100000</td>\n",
              "      <td>construction / craftsmanship</td>\n",
              "      <td>...</td>\n",
              "      <td>south san francisco, california</td>\n",
              "      <td>doesn&amp;rsquo;t have kids</td>\n",
              "      <td>straight</td>\n",
              "      <td>NaN</td>\n",
              "      <td>christianity but not too serious about it</td>\n",
              "      <td>m</td>\n",
              "      <td>sagittarius but it doesn&amp;rsquo;t matter</td>\n",
              "      <td>no</td>\n",
              "      <td>english (fluently)</td>\n",
              "      <td>single</td>\n",
              "    </tr>\n",
              "    <tr>\n",
              "      <th>59943</th>\n",
              "      <td>27</td>\n",
              "      <td>athletic</td>\n",
              "      <td>mostly anything</td>\n",
              "      <td>socially</td>\n",
              "      <td>often</td>\n",
              "      <td>working on college/university</td>\n",
              "      <td>asian, black</td>\n",
              "      <td>73</td>\n",
              "      <td>-1</td>\n",
              "      <td>medicine / health</td>\n",
              "      <td>...</td>\n",
              "      <td>san francisco, california</td>\n",
              "      <td>doesn&amp;rsquo;t have kids, but wants them</td>\n",
              "      <td>straight</td>\n",
              "      <td>likes dogs and likes cats</td>\n",
              "      <td>agnosticism but not too serious about it</td>\n",
              "      <td>m</td>\n",
              "      <td>leo and it&amp;rsquo;s fun to think about</td>\n",
              "      <td>trying to quit</td>\n",
              "      <td>english (fluently), spanish (poorly), chinese ...</td>\n",
              "      <td>single</td>\n",
              "    </tr>\n",
              "    <tr>\n",
              "      <th>59944</th>\n",
              "      <td>39</td>\n",
              "      <td>average</td>\n",
              "      <td>NaN</td>\n",
              "      <td>socially</td>\n",
              "      <td>NaN</td>\n",
              "      <td>graduated from masters program</td>\n",
              "      <td>white</td>\n",
              "      <td>68</td>\n",
              "      <td>-1</td>\n",
              "      <td>medicine / health</td>\n",
              "      <td>...</td>\n",
              "      <td>san francisco, california</td>\n",
              "      <td>NaN</td>\n",
              "      <td>gay</td>\n",
              "      <td>likes dogs and likes cats</td>\n",
              "      <td>catholicism and laughing about it</td>\n",
              "      <td>m</td>\n",
              "      <td>gemini and it&amp;rsquo;s fun to think about</td>\n",
              "      <td>sometimes</td>\n",
              "      <td>english</td>\n",
              "      <td>single</td>\n",
              "    </tr>\n",
              "  </tbody>\n",
              "</table>\n",
              "<p>5 rows × 21 columns</p>\n",
              "</div>"
            ],
            "text/plain": [
              "      age body_type             diet      drinks      drugs  \\\n",
              "59940  59       NaN              NaN    socially      never   \n",
              "59941  24       fit  mostly anything       often  sometimes   \n",
              "59942  42   average  mostly anything  not at all      never   \n",
              "59943  27  athletic  mostly anything    socially      often   \n",
              "59944  39   average              NaN    socially        NaN   \n",
              "\n",
              "                               education     ethnicity height  income  \\\n",
              "59940  graduated from college/university           NaN     62      -1   \n",
              "59941      working on college/university  white, other     72      -1   \n",
              "59942     graduated from masters program         asian     71  100000   \n",
              "59943      working on college/university  asian, black     73      -1   \n",
              "59944     graduated from masters program         white     68      -1   \n",
              "\n",
              "                                job   ...                           location  \\\n",
              "59940   sales / marketing / biz dev   ...                oakland, california   \n",
              "59941         entertainment / media   ...          san francisco, california   \n",
              "59942  construction / craftsmanship   ...    south san francisco, california   \n",
              "59943             medicine / health   ...          san francisco, california   \n",
              "59944             medicine / health   ...          san francisco, california   \n",
              "\n",
              "                                     offspring orientation  \\\n",
              "59940                                 has kids    straight   \n",
              "59941                  doesn&rsquo;t have kids    straight   \n",
              "59942                  doesn&rsquo;t have kids    straight   \n",
              "59943  doesn&rsquo;t have kids, but wants them    straight   \n",
              "59944                                      NaN         gay   \n",
              "\n",
              "                            pets                                   religion  \\\n",
              "59940                   has dogs   catholicism but not too serious about it   \n",
              "59941  likes dogs and likes cats                                agnosticism   \n",
              "59942                        NaN  christianity but not too serious about it   \n",
              "59943  likes dogs and likes cats   agnosticism but not too serious about it   \n",
              "59944  likes dogs and likes cats          catholicism and laughing about it   \n",
              "\n",
              "      sex                                      sign          smokes  \\\n",
              "59940   f  cancer and it&rsquo;s fun to think about              no   \n",
              "59941   m           leo but it doesn&rsquo;t matter              no   \n",
              "59942   m   sagittarius but it doesn&rsquo;t matter              no   \n",
              "59943   m     leo and it&rsquo;s fun to think about  trying to quit   \n",
              "59944   m  gemini and it&rsquo;s fun to think about       sometimes   \n",
              "\n",
              "                                                  speaks  status  \n",
              "59940                                            english  single  \n",
              "59941                                 english (fluently)  single  \n",
              "59942                                 english (fluently)  single  \n",
              "59943  english (fluently), spanish (poorly), chinese ...  single  \n",
              "59944                                            english  single  \n",
              "\n",
              "[5 rows x 21 columns]"
            ]
          },
          "metadata": {
            "tags": []
          },
          "execution_count": 30
        }
      ]
    },
    {
      "metadata": {
        "id": "BwjQliI-25kb",
        "colab_type": "code",
        "colab": {
          "autoexec": {
            "startup": false,
            "wait_interval": 0
          },
          "base_uri": "https://localhost:8080/",
          "height": 459
        },
        "outputId": "7ce4c50c-87d8-4eec-f227-02fb0fdd803f",
        "executionInfo": {
          "status": "ok",
          "timestamp": 1530322783812,
          "user_tz": 420,
          "elapsed": 7710,
          "user": {
            "displayName": "Leifur Sigurdsson",
            "photoUrl": "https://lh3.googleusercontent.com/a/default-user=s128",
            "userId": "111769075670530589535"
          }
        }
      },
      "cell_type": "code",
      "source": [
        "# Converting data types to correct format\n",
        "\n",
        "# for column in df_okc:\n",
        "#   if columnname = column name:\n",
        "#     .astype('category')\n",
        "df_okc['sex'] = df_okc['sex'].astype('category')\n",
        "df_okc['diet'] = df_okc['diet'].astype('category')\n",
        "df_okc['education'] = df_okc['education'].astype('category')\n",
        "df_okc['job'] = df_okc['job'].astype('category')\n",
        "df_okc['offspring'] = df_okc['offspring'].astype('category')\n",
        "df_okc['orientation'] = df_okc['orientation'].astype('category')\n",
        "df_okc['religion'] = df_okc['religion'].astype('category')\n",
        "df_okc['ethnicity'] = df_okc['ethnicity'].astype('category')\n",
        "df_okc['smokes'] = df_okc['smokes'].astype('category')\n",
        "df_okc['speaks'] = df_okc['speaks'].astype('category')\n",
        "df_okc['status'] = df_okc['status'].astype('category')\n",
        "df_okc['pets'] = df_okc['pets'].astype('category')\n",
        "df_okc['drinks'] = df_okc['drinks'].astype('category')\n",
        "df_okc['body_type'] = df_okc['body_type'].astype('category')\n",
        "df_okc['drugs'] = df_okc['drugs'].astype('category')\n",
        "df_okc['age'] = pd.to_numeric(df_okc['age'], errors='coerce')\n",
        "df_okc['height'] = pd.to_numeric(df_okc['height'], errors='coerce')\n",
        "df_okc['income'] = pd.to_numeric(df_okc['income'], errors='coerce')\n",
        "df_okc['last_online'] = pd.to_datetime(df_okc['last_online'], errors='coerce')\n",
        "df_okc.info()"
      ],
      "execution_count": 31,
      "outputs": [
        {
          "output_type": "stream",
          "text": [
            "<class 'pandas.core.frame.DataFrame'>\n",
            "RangeIndex: 59945 entries, 0 to 59944\n",
            "Data columns (total 21 columns):\n",
            "age            59944 non-null float64\n",
            "body_type      54649 non-null category\n",
            "diet           35551 non-null category\n",
            "drinks         56960 non-null category\n",
            "drugs          45866 non-null category\n",
            "education      53317 non-null category\n",
            "ethnicity      54264 non-null category\n",
            "height         59940 non-null float64\n",
            "income         59943 non-null float64\n",
            "job            51746 non-null category\n",
            "last_online    59943 non-null datetime64[ns]\n",
            "location       59943 non-null object\n",
            "offspring      24383 non-null category\n",
            "orientation    59943 non-null category\n",
            "pets           40023 non-null category\n",
            "religion       39717 non-null category\n",
            "sex            59943 non-null category\n",
            "sign           48887 non-null object\n",
            "smokes         54431 non-null category\n",
            "speaks         59893 non-null category\n",
            "status         59943 non-null category\n",
            "dtypes: category(15), datetime64[ns](1), float64(3), object(2)\n",
            "memory usage: 4.1+ MB\n"
          ],
          "name": "stdout"
        }
      ]
    },
    {
      "metadata": {
        "id": "bRwgzgp3OpBT",
        "colab_type": "code",
        "colab": {
          "autoexec": {
            "startup": false,
            "wait_interval": 0
          },
          "base_uri": "https://localhost:8080/",
          "height": 297
        },
        "outputId": "35691f4c-dff2-4494-e7ca-bb3b7d1bfcd8",
        "executionInfo": {
          "status": "ok",
          "timestamp": 1530322784228,
          "user_tz": 420,
          "elapsed": 329,
          "user": {
            "displayName": "Leifur Sigurdsson",
            "photoUrl": "https://lh3.googleusercontent.com/a/default-user=s128",
            "userId": "111769075670530589535"
          }
        }
      },
      "cell_type": "code",
      "source": [
        "# EXAMINE AMOUNT OF MISSING DATA ON KEY VARIABLES OF INTEREST:\n",
        "# age, sex, height, income\n",
        "\n",
        "# compute univariate descriptive statistics to see if there are\n",
        "# any outliers\n",
        "\n",
        "# Outliers \n",
        "# Income = -1 really means NAN    ##Drop in smaller subset##\n",
        "# Income set < 300,000   very few people make that much\n",
        "# Age set < 100   2 people over the age of 100 \n",
        "# Height set > 2'11\" \n",
        "df_okc.describe()"
      ],
      "execution_count": 32,
      "outputs": [
        {
          "output_type": "execute_result",
          "data": {
            "text/html": [
              "<div>\n",
              "<style scoped>\n",
              "    .dataframe tbody tr th:only-of-type {\n",
              "        vertical-align: middle;\n",
              "    }\n",
              "\n",
              "    .dataframe tbody tr th {\n",
              "        vertical-align: top;\n",
              "    }\n",
              "\n",
              "    .dataframe thead th {\n",
              "        text-align: right;\n",
              "    }\n",
              "</style>\n",
              "<table border=\"1\" class=\"dataframe\">\n",
              "  <thead>\n",
              "    <tr style=\"text-align: right;\">\n",
              "      <th></th>\n",
              "      <th>age</th>\n",
              "      <th>height</th>\n",
              "      <th>income</th>\n",
              "    </tr>\n",
              "  </thead>\n",
              "  <tbody>\n",
              "    <tr>\n",
              "      <th>count</th>\n",
              "      <td>59944.000000</td>\n",
              "      <td>59940.000000</td>\n",
              "      <td>59943.000000</td>\n",
              "    </tr>\n",
              "    <tr>\n",
              "      <th>mean</th>\n",
              "      <td>32.339684</td>\n",
              "      <td>68.295229</td>\n",
              "      <td>20033.557880</td>\n",
              "    </tr>\n",
              "    <tr>\n",
              "      <th>std</th>\n",
              "      <td>9.451984</td>\n",
              "      <td>3.994891</td>\n",
              "      <td>97348.525138</td>\n",
              "    </tr>\n",
              "    <tr>\n",
              "      <th>min</th>\n",
              "      <td>18.000000</td>\n",
              "      <td>1.000000</td>\n",
              "      <td>-1.000000</td>\n",
              "    </tr>\n",
              "    <tr>\n",
              "      <th>25%</th>\n",
              "      <td>26.000000</td>\n",
              "      <td>66.000000</td>\n",
              "      <td>-1.000000</td>\n",
              "    </tr>\n",
              "    <tr>\n",
              "      <th>50%</th>\n",
              "      <td>30.000000</td>\n",
              "      <td>68.000000</td>\n",
              "      <td>-1.000000</td>\n",
              "    </tr>\n",
              "    <tr>\n",
              "      <th>75%</th>\n",
              "      <td>37.000000</td>\n",
              "      <td>71.000000</td>\n",
              "      <td>-1.000000</td>\n",
              "    </tr>\n",
              "    <tr>\n",
              "      <th>max</th>\n",
              "      <td>110.000000</td>\n",
              "      <td>95.000000</td>\n",
              "      <td>1000000.000000</td>\n",
              "    </tr>\n",
              "  </tbody>\n",
              "</table>\n",
              "</div>"
            ],
            "text/plain": [
              "                age        height          income\n",
              "count  59944.000000  59940.000000    59943.000000\n",
              "mean      32.339684     68.295229    20033.557880\n",
              "std        9.451984      3.994891    97348.525138\n",
              "min       18.000000      1.000000       -1.000000\n",
              "25%       26.000000     66.000000       -1.000000\n",
              "50%       30.000000     68.000000       -1.000000\n",
              "75%       37.000000     71.000000       -1.000000\n",
              "max      110.000000     95.000000  1000000.000000"
            ]
          },
          "metadata": {
            "tags": []
          },
          "execution_count": 32
        }
      ]
    },
    {
      "metadata": {
        "id": "GPgOt1813i1M",
        "colab_type": "code",
        "colab": {
          "autoexec": {
            "startup": false,
            "wait_interval": 0
          },
          "base_uri": "https://localhost:8080/",
          "height": 170
        },
        "outputId": "f70866a1-5a6d-4f07-def6-722e4e68b521",
        "executionInfo": {
          "status": "ok",
          "timestamp": 1530322784982,
          "user_tz": 420,
          "elapsed": 583,
          "user": {
            "displayName": "Leifur Sigurdsson",
            "photoUrl": "https://lh3.googleusercontent.com/a/default-user=s128",
            "userId": "111769075670530589535"
          }
        }
      },
      "cell_type": "code",
      "source": [
        "# Created subset of age, sex, height, and income data, then dropped the 4 columns with nulls\n",
        "\n",
        "subset = df_okc[['age', 'sex', 'height', 'income']].dropna()\n",
        "\n",
        "subset.info()\n",
        "\n",
        "\n"
      ],
      "execution_count": 33,
      "outputs": [
        {
          "output_type": "stream",
          "text": [
            "<class 'pandas.core.frame.DataFrame'>\n",
            "Int64Index: 59940 entries, 0 to 59944\n",
            "Data columns (total 4 columns):\n",
            "age       59940 non-null float64\n",
            "sex       59940 non-null category\n",
            "height    59940 non-null float64\n",
            "income    59940 non-null float64\n",
            "dtypes: category(1), float64(3)\n",
            "memory usage: 1.9 MB\n"
          ],
          "name": "stdout"
        }
      ]
    },
    {
      "metadata": {
        "id": "NCYeiFl7W0WX",
        "colab_type": "code",
        "colab": {
          "autoexec": {
            "startup": false,
            "wait_interval": 0
          },
          "base_uri": "https://localhost:8080/",
          "height": 170
        },
        "outputId": "bd7de2e4-13a9-48d1-ce13-54d0b15f8df7",
        "executionInfo": {
          "status": "ok",
          "timestamp": 1530322965410,
          "user_tz": 420,
          "elapsed": 326,
          "user": {
            "displayName": "Leifur Sigurdsson",
            "photoUrl": "https://lh3.googleusercontent.com/a/default-user=s128",
            "userId": "111769075670530589535"
          }
        }
      },
      "cell_type": "code",
      "source": [
        "# Income analysis not including people who didn't enter income \"-1\" and people who entered over $300000\n",
        "subinc = df_okc[['age', 'sex', 'height', 'income']].dropna()\n",
        "subinc = subinc[subinc['income'] > -1]\n",
        "subinc = subinc[subinc['income'] < 300000]\n",
        "subinc.info()"
      ],
      "execution_count": 41,
      "outputs": [
        {
          "output_type": "stream",
          "text": [
            "<class 'pandas.core.frame.DataFrame'>\n",
            "Int64Index: 10934 entries, 1 to 59942\n",
            "Data columns (total 4 columns):\n",
            "age       10934 non-null float64\n",
            "sex       10934 non-null category\n",
            "height    10934 non-null float64\n",
            "income    10934 non-null float64\n",
            "dtypes: category(1), float64(3)\n",
            "memory usage: 352.5 KB\n"
          ],
          "name": "stdout"
        }
      ]
    },
    {
      "metadata": {
        "id": "uH2j4TH2f9mH",
        "colab_type": "text"
      },
      "cell_type": "markdown",
      "source": [
        ""
      ]
    },
    {
      "metadata": {
        "id": "Il50brKJtT1z",
        "colab_type": "text"
      },
      "cell_type": "markdown",
      "source": [
        "# Who are OkCupid customers?"
      ]
    },
    {
      "metadata": {
        "id": "Q-bMSArB9f4q",
        "colab_type": "text"
      },
      "cell_type": "markdown",
      "source": [
        "**Age**\n",
        "*   The mean age is 32\n",
        "\n",
        "**Sex**\n",
        "*   60% of users are men\n",
        "\n",
        "**Income**\n",
        "*   Of the 10,982 users who remained after removing outliers and missing values, most users were male (73%). On average, users were 30 years old (median; mean age = 32.63 years old, SD = 9.83 years). \n",
        "\n",
        "  * Women median = 40K\n",
        "\n",
        "  *  Men median = 60K\n",
        "\n",
        "*   On average, men make more income than women across all ages\n",
        "\n",
        "**Sexual Orientation**\n",
        "*   86% of users are straight\n",
        "\n",
        "**Ethnicity**\n",
        "\n",
        "*   54% of users are listed as white, followed by 10% Asian \n",
        "\n",
        "**Location**\n",
        "\n",
        "*   51% of OkCupid's California customers are located in San Francisco\n",
        "\n",
        "**Drinking**\n",
        "\n",
        "\n",
        "*   78% drink socially\n",
        "\n",
        "**Education**\n",
        "\n",
        "\n",
        "*   50% of users have achieved bachelors degrees\n",
        "*   Followed by 22% with masters degrees\n",
        "\n",
        "**Religion**\n",
        "\n",
        "** Bias not clean data although interesting * *\n",
        "\n",
        "\n",
        "*   Non-Religious = 41%\n",
        "*   Somewhat Religious = 38%\n",
        "*   Very Religious = 19%\n",
        "*   \n",
        "*   List item\n",
        "\n",
        "\n",
        "\n",
        "\n",
        "\n",
        "\n",
        "\n",
        "\n",
        "\n",
        "\n",
        "\n",
        "\n",
        "\n",
        "\n"
      ]
    },
    {
      "metadata": {
        "id": "LjtFWvFfbU_m",
        "colab_type": "text"
      },
      "cell_type": "markdown",
      "source": [
        "# **Age**"
      ]
    },
    {
      "metadata": {
        "id": "Vj7CIgqEaib2",
        "colab_type": "code",
        "colab": {
          "autoexec": {
            "startup": false,
            "wait_interval": 0
          },
          "base_uri": "https://localhost:8080/",
          "height": 294
        },
        "outputId": "56e356b0-4532-4afe-aae0-8db4486be9d6",
        "executionInfo": {
          "status": "ok",
          "timestamp": 1530322785680,
          "user_tz": 420,
          "elapsed": 564,
          "user": {
            "displayName": "Leifur Sigurdsson",
            "photoUrl": "https://lh3.googleusercontent.com/a/default-user=s128",
            "userId": "111769075670530589535"
          }
        }
      },
      "cell_type": "code",
      "source": [
        "# The majority of our users are 25-34\n",
        "\n",
        "\n",
        "A18_24 = df_okc[ (df_okc['age'] >= 18) & (df_okc['age'] <= 24)]\n",
        "A25_34 = df_okc[ (df_okc['age'] >= 25) & (df_okc['age'] <= 34)]\n",
        "A35_44 = df_okc[ (df_okc['age'] >= 35) & (df_okc['age'] <= 44)]\n",
        "A45 = df_okc[df_okc['age'] >= 45]\n",
        "\n",
        "segments = [len(A18_24[A18_24[\"sex\"] == \"f\"]), len(A25_34[A25_34[\"sex\"] == \"f\"]), len(A35_44[A35_44[\"sex\"] == \"f\"]), len(A45[A45[\"sex\"] == \"f\"]), len(A18_24[A18_24[\"sex\"] == \"m\"]), len(A25_34[A25_34[\"sex\"] == \"m\"]), len(A35_44[A35_44[\"sex\"] == \"m\"]), len(A45[A45[\"sex\"] == \"m\"])]\n",
        "titles = [\"F18-24\", \"F25-34\", \"F35-44\", \"F45+\", \"M18-24\", \"M25-34\", \"M35-44\", \"M45+\"]\n",
        "plt.bar(titles, segments)\n",
        "plt.title(\"Female & Male by age group\")\n",
        "\n",
        "plt.ylabel('Count per Group')\n",
        "plt.xlabel('Grouped Age Range')\n",
        "\n",
        "#Set tick colors:\n",
        "ax = plt.gca()\n",
        "ax.tick_params(axis='x', colors='blue')\n",
        "ax.tick_params(axis='y', colors='red')\n",
        "\n",
        "#Plot the data:\n",
        "my_colors = 'rrrrbbbb'  \n",
        "\n",
        "\n",
        "plt.show()\n"
      ],
      "execution_count": 34,
      "outputs": [
        {
          "output_type": "display_data",
          "data": {
            "image/png": "[encoded data removed]",
            "text/plain": [
              "<matplotlib.figure.Figure at 0x7f34cdf89978>"
            ]
          },
          "metadata": {
            "tags": []
          }
        }
      ]
    },
    {
      "metadata": {
        "id": "aUj1N1hRzAQe",
        "colab_type": "code",
        "colab": {
          "autoexec": {
            "startup": false,
            "wait_interval": 0
          },
          "base_uri": "https://localhost:8080/",
          "height": 311
        },
        "outputId": "a2452681-f25b-440d-ff49-6f4eb11ffbdd",
        "executionInfo": {
          "status": "ok",
          "timestamp": 1530322786352,
          "user_tz": 420,
          "elapsed": 523,
          "user": {
            "displayName": "Leifur Sigurdsson",
            "photoUrl": "https://lh3.googleusercontent.com/a/default-user=s128",
            "userId": "111769075670530589535"
          }
        }
      },
      "cell_type": "code",
      "source": [
        "### Interesting divots around 30 & 40 which I hypothesize is due to people lying about their age.\n",
        "\n",
        "age = sns.distplot(subset['age'], kde=False)\n",
        "\n",
        "plt.title(\"Age Distribution\")\n",
        "age.axvline(30, color='gray')\n",
        "age.axvline(41, color='gray')"
      ],
      "execution_count": 35,
      "outputs": [
        {
          "output_type": "execute_result",
          "data": {
            "text/plain": [
              "<matplotlib.lines.Line2D at 0x7f34cbe6d9b0>"
            ]
          },
          "metadata": {
            "tags": []
          },
          "execution_count": 35
        },
        {
          "output_type": "display_data",
          "data": {
            "image/png": "[encoded data removed]",
            "text/plain": [
              "<matplotlib.figure.Figure at 0x7f34ce020b38>"
            ]
          },
          "metadata": {
            "tags": []
          }
        }
      ]
    },
    {
      "metadata": {
        "id": "8cFq-2_Ubazs",
        "colab_type": "text"
      },
      "cell_type": "markdown",
      "source": [
        "# **Sex**"
      ]
    },
    {
      "metadata": {
        "id": "y4LGvK0sqsvh",
        "colab_type": "code",
        "colab": {
          "autoexec": {
            "startup": false,
            "wait_interval": 0
          },
          "base_uri": "https://localhost:8080/",
          "height": 345
        },
        "outputId": "54cb7213-d762-4117-dd1b-3c818ef3e2a3",
        "executionInfo": {
          "status": "ok",
          "timestamp": 1530322786856,
          "user_tz": 420,
          "elapsed": 426,
          "user": {
            "displayName": "Leifur Sigurdsson",
            "photoUrl": "https://lh3.googleusercontent.com/a/default-user=s128",
            "userId": "111769075670530589535"
          }
        }
      },
      "cell_type": "code",
      "source": [
        "# Most users are men\n",
        "\n",
        "\n",
        "sns.countplot(subset['sex'])\n",
        "plt.title(\"Count Sex\")"
      ],
      "execution_count": 36,
      "outputs": [
        {
          "output_type": "stream",
          "text": [
            "/usr/local/lib/python3.6/dist-packages/seaborn/categorical.py:1428: FutureWarning: remove_na is deprecated and is a private function. Do not use.\n",
            "  stat_data = remove_na(group_data)\n"
          ],
          "name": "stderr"
        },
        {
          "output_type": "execute_result",
          "data": {
            "text/plain": [
              "Text(0.5,1,'Count Sex')"
            ]
          },
          "metadata": {
            "tags": []
          },
          "execution_count": 36
        },
        {
          "output_type": "display_data",
          "data": {
            "image/png": "[encoded data removed]",
            "text/plain": [
              "<matplotlib.figure.Figure at 0x7f34ce96f0b8>"
            ]
          },
          "metadata": {
            "tags": []
          }
        }
      ]
    },
    {
      "metadata": {
        "id": "GgndQHYT_KXP",
        "colab_type": "code",
        "colab": {
          "autoexec": {
            "startup": false,
            "wait_interval": 0
          },
          "base_uri": "https://localhost:8080/",
          "height": 68
        },
        "outputId": "4a6a6d13-376c-47f9-b179-8645ef68195d",
        "executionInfo": {
          "status": "ok",
          "timestamp": 1530323190691,
          "user_tz": 420,
          "elapsed": 570,
          "user": {
            "displayName": "Leifur Sigurdsson",
            "photoUrl": "https://lh3.googleusercontent.com/a/default-user=s128",
            "userId": "111769075670530589535"
          }
        }
      },
      "cell_type": "code",
      "source": [
        "# Percentage of each sex on OkCupid\n",
        "subset['sex'].value_counts(normalize=True)"
      ],
      "execution_count": 42,
      "outputs": [
        {
          "output_type": "execute_result",
          "data": {
            "text/plain": [
              "m    0.597664\n",
              "f    0.402336\n",
              "Name: sex, dtype: float64"
            ]
          },
          "metadata": {
            "tags": []
          },
          "execution_count": 42
        }
      ]
    },
    {
      "metadata": {
        "id": "iatnhz40YBQ8",
        "colab_type": "text"
      },
      "cell_type": "markdown",
      "source": [
        "# **Income**"
      ]
    },
    {
      "metadata": {
        "id": "Ti5HSmdgYCN_",
        "colab_type": "code",
        "colab": {
          "autoexec": {
            "startup": false,
            "wait_interval": 0
          },
          "base_uri": "https://localhost:8080/",
          "height": 68
        },
        "outputId": "12414a01-d2d3-401d-d764-1b2244d08b32",
        "executionInfo": {
          "status": "ok",
          "timestamp": 1530323239028,
          "user_tz": 420,
          "elapsed": 341,
          "user": {
            "displayName": "Leifur Sigurdsson",
            "photoUrl": "https://lh3.googleusercontent.com/a/default-user=s128",
            "userId": "111769075670530589535"
          }
        }
      },
      "cell_type": "code",
      "source": [
        "# Percentage of each sex in OkCupids user base that has input income \n",
        "subinc['sex'].value_counts(normalize=True)"
      ],
      "execution_count": 43,
      "outputs": [
        {
          "output_type": "execute_result",
          "data": {
            "text/plain": [
              "m    0.726998\n",
              "f    0.273002\n",
              "Name: sex, dtype: float64"
            ]
          },
          "metadata": {
            "tags": []
          },
          "execution_count": 43
        }
      ]
    },
    {
      "metadata": {
        "id": "b-P5mkiLHgOq",
        "colab_type": "code",
        "colab": {
          "autoexec": {
            "startup": false,
            "wait_interval": 0
          },
          "base_uri": "https://localhost:8080/",
          "height": 350
        },
        "outputId": "1f6b0fbc-45ec-4a2e-c016-b6663e1db031",
        "executionInfo": {
          "status": "ok",
          "timestamp": 1530330996614,
          "user_tz": 420,
          "elapsed": 607,
          "user": {
            "displayName": "Leifur Sigurdsson",
            "photoUrl": "https://lh3.googleusercontent.com/a/default-user=s128",
            "userId": "111769075670530589535"
          }
        }
      },
      "cell_type": "code",
      "source": [
        "# sns.distplot(subinc1['income'], kde=False)\n",
        "income = sns.distplot(subinc.income[subinc['sex'] == 'f'], kde=False, color='crimson', label='Women (Median = $40K)')\n",
        "income = sns.distplot(subinc.income[subinc['sex'] == 'm'], kde=False, color='darkblue', label='Men (Median = $60K)')\n",
        "plt.xlabel('Income');\n",
        "\n",
        "income.axvline(np.median(subinc.income[df_okc.sex=='m']), color = \"darkblue\")\n",
        "income.axvline(np.median(subinc.income[df_okc.sex=='f']), color = \"magenta\")\n",
        "\n",
        "plt.title('Income by age by sex < $300000 \\n\\n \\\n",
        "On average, men make more income than women \\n across all ages. \\n') \n",
        "\n",
        "plt.legend()\n",
        "plt.show()"
      ],
      "execution_count": 133,
      "outputs": [
        {
          "output_type": "display_data",
          "data": {
            "image/png": "[encoded data removed]",
            "text/plain": [
              "<matplotlib.figure.Figure at 0x7f34ce968ef0>"
            ]
          },
          "metadata": {
            "tags": []
          }
        }
      ]
    },
    {
      "metadata": {
        "id": "yfdTQoqAXvS9",
        "colab_type": "code",
        "colab": {
          "autoexec": {
            "startup": false,
            "wait_interval": 0
          },
          "base_uri": "https://localhost:8080/",
          "height": 350
        },
        "outputId": "108dc227-6055-49c3-86d4-fb7adb783a57",
        "executionInfo": {
          "status": "ok",
          "timestamp": 1530331414784,
          "user_tz": 420,
          "elapsed": 1683,
          "user": {
            "displayName": "Leifur Sigurdsson",
            "photoUrl": "https://lh3.googleusercontent.com/a/default-user=s128",
            "userId": "111769075670530589535"
          }
        }
      },
      "cell_type": "code",
      "source": [
        "sns.regplot(x='age', y='income', data=subinc[subinc['sex'] == 'm'], color='darkblue', marker='.', label='Men', scatter_kws={'alpha':0.3})\n",
        "sns.regplot(x='age', y='income', data=subinc[subinc['sex'] == 'f'], color='magenta', marker='.', label='Women', scatter_kws={'alpha':0.3})\n",
        "\n",
        "plt.title('Income by age by sex < $300000 \\n\\n \\\n",
        "On average, men make more income than women \\n across all ages. \\n') \n",
        "\n",
        "plt.legend() \n",
        "\n",
        "plt.show()"
      ],
      "execution_count": 144,
      "outputs": [
        {
          "output_type": "display_data",
          "data": {
            "image/png": "[encoded data removed]",
            "text/plain": [
              "<matplotlib.figure.Figure at 0x7f34cb46dda0>"
            ]
          },
          "metadata": {
            "tags": []
          }
        }
      ]
    },
    {
      "metadata": {
        "id": "p7pbEN5WYZ57",
        "colab_type": "text"
      },
      "cell_type": "markdown",
      "source": [
        "# **Orientation**"
      ]
    },
    {
      "metadata": {
        "id": "P3jOf0651aEZ",
        "colab_type": "code",
        "colab": {
          "autoexec": {
            "startup": false,
            "wait_interval": 0
          },
          "base_uri": "https://localhost:8080/",
          "height": 85
        },
        "outputId": "1b09b8d0-7148-4513-a158-c5c04a98a0dd",
        "executionInfo": {
          "status": "ok",
          "timestamp": 1530323360872,
          "user_tz": 420,
          "elapsed": 323,
          "user": {
            "displayName": "Leifur Sigurdsson",
            "photoUrl": "https://lh3.googleusercontent.com/a/default-user=s128",
            "userId": "111769075670530589535"
          }
        }
      },
      "cell_type": "code",
      "source": [
        "# Percentage of straight users\n",
        "\n",
        "df_okc[\"orientation\"].value_counts(normalize =True)"
      ],
      "execution_count": 44,
      "outputs": [
        {
          "output_type": "execute_result",
          "data": {
            "text/plain": [
              "straight    0.860868\n",
              "gay         0.092972\n",
              "bisexual    0.046161\n",
              "Name: orientation, dtype: float64"
            ]
          },
          "metadata": {
            "tags": []
          },
          "execution_count": 44
        }
      ]
    },
    {
      "metadata": {
        "id": "MGccmBjFai14",
        "colab_type": "code",
        "colab": {
          "autoexec": {
            "startup": false,
            "wait_interval": 0
          },
          "base_uri": "https://localhost:8080/",
          "height": 353
        },
        "outputId": "c669d3a7-1c4e-4c8c-de36-6912ab657838",
        "executionInfo": {
          "status": "ok",
          "timestamp": 1530037930261,
          "user_tz": 420,
          "elapsed": 402,
          "user": {
            "displayName": "Leifur Sigurdsson",
            "photoUrl": "https://lh3.googleusercontent.com/a/default-user=s128",
            "userId": "111769075670530589535"
          }
        }
      },
      "cell_type": "code",
      "source": [
        "# 86% of users are straight\n",
        "\n",
        "segments = [len(df_okc[df_okc[\"orientation\"] == \"straight\"]), len(df_okc[df_okc[\"orientation\"] == \"bisexual\"]), len(df_okc[df_okc[\"orientation\"] == \"gay\"])]\n",
        "# segments[0].set_color='r'\n",
        "titles = [\"Straight\", \"Bisexual\", \"Gay\"]\n",
        "plt.bar(titles, segments)\n",
        "\n",
        "\n",
        "plt.title(\"\\n Sexual Orientation \\n\\n 86% of users are Straight \\n\")"
      ],
      "execution_count": 26,
      "outputs": [
        {
          "output_type": "execute_result",
          "data": {
            "text/plain": [
              "Text(0.5,1,'\\n Sexual Orientation \\n\\n 86% of users are Straight \\n')"
            ]
          },
          "metadata": {
            "tags": []
          },
          "execution_count": 26
        },
        {
          "output_type": "display_data",
          "data": {
            "image/png": "[encoded data removed]",
            "text/plain": [
              "<matplotlib.figure.Figure at 0x7fdae1916320>"
            ]
          },
          "metadata": {
            "tags": []
          }
        }
      ]
    },
    {
      "metadata": {
        "id": "p0RXCgH2YfvH",
        "colab_type": "text"
      },
      "cell_type": "markdown",
      "source": [
        "# **Ethnicity**"
      ]
    },
    {
      "metadata": {
        "id": "dlo3xmZLZY-7",
        "colab_type": "code",
        "colab": {
          "autoexec": {
            "startup": false,
            "wait_interval": 0
          },
          "base_uri": "https://localhost:8080/",
          "height": 0
        },
        "outputId": "55ee10ef-3fa3-42f2-dc59-c619ce0f4f5f",
        "executionInfo": {
          "status": "ok",
          "timestamp": 1530323937614,
          "user_tz": 420,
          "elapsed": 513,
          "user": {
            "displayName": "Leifur Sigurdsson",
            "photoUrl": "https://lh3.googleusercontent.com/a/default-user=s128",
            "userId": "111769075670530589535"
          }
        }
      },
      "cell_type": "code",
      "source": [
        "# drop missing values from ethnicity\n",
        "race = df_okc[[\"ethnicity\"]].dropna()"
      ],
      "execution_count": 58,
      "outputs": []
    },
    {
      "metadata": {
        "id": "SspMXWC9Xt1q",
        "colab_type": "code",
        "colab": {
          "autoexec": {
            "startup": false,
            "wait_interval": 0
          },
          "base_uri": "https://localhost:8080/",
          "height": 119
        },
        "outputId": "b96e08d4-af43-4406-e6f9-947d32b0d183",
        "executionInfo": {
          "status": "ok",
          "timestamp": 1530323948392,
          "user_tz": 420,
          "elapsed": 607,
          "user": {
            "displayName": "Leifur Sigurdsson",
            "photoUrl": "https://lh3.googleusercontent.com/a/default-user=s128",
            "userId": "111769075670530589535"
          }
        }
      },
      "cell_type": "code",
      "source": [
        "# Percentage of top ethnic groups that use OKCupid\n",
        "\n",
        "race[\"ethnicity\"].value_counts().head()/len(race[\"ethnicity\"])"
      ],
      "execution_count": 60,
      "outputs": [
        {
          "output_type": "execute_result",
          "data": {
            "text/plain": [
              "white               0.604968\n",
              "asian               0.113040\n",
              "hispanic / latin    0.052023\n",
              "black               0.037004\n",
              "other               0.031439\n",
              "Name: ethnicity, dtype: float64"
            ]
          },
          "metadata": {
            "tags": []
          },
          "execution_count": 60
        }
      ]
    },
    {
      "metadata": {
        "id": "_r0Zk-DGbAIr",
        "colab_type": "text"
      },
      "cell_type": "markdown",
      "source": [
        "# **Location**"
      ]
    },
    {
      "metadata": {
        "id": "mdS5U2WiED1l",
        "colab_type": "code",
        "colab": {
          "autoexec": {
            "startup": false,
            "wait_interval": 0
          },
          "base_uri": "https://localhost:8080/",
          "height": 119
        },
        "outputId": "1856f5d3-855d-404b-ada9-d532de07c437",
        "executionInfo": {
          "status": "ok",
          "timestamp": 1529714068817,
          "user_tz": 420,
          "elapsed": 310,
          "user": {
            "displayName": "Leifur Sigurdsson",
            "photoUrl": "https://lh3.googleusercontent.com/a/default-user=s128",
            "userId": "111769075670530589535"
          }
        }
      },
      "cell_type": "code",
      "source": [
        "# Percentage of top 5 locations users are located\n",
        "\n",
        "df_okc[\"location\"].value_counts().head()/len(df_okc[\"location\"])"
      ],
      "execution_count": 159,
      "outputs": [
        {
          "output_type": "execute_result",
          "data": {
            "text/plain": [
              "san francisco, california    0.518208\n",
              "oakland, california          0.120344\n",
              "berkeley, california         0.070231\n",
              "san mateo, california        0.022204\n",
              "palo alto, california        0.017750\n",
              "Name: location, dtype: float64"
            ]
          },
          "metadata": {
            "tags": []
          },
          "execution_count": 159
        }
      ]
    },
    {
      "metadata": {
        "id": "EzQRf-OwbEAz",
        "colab_type": "text"
      },
      "cell_type": "markdown",
      "source": [
        "# **Drinkers**"
      ]
    },
    {
      "metadata": {
        "id": "dEIj1HhMWKhF",
        "colab_type": "code",
        "colab": {
          "autoexec": {
            "startup": false,
            "wait_interval": 0
          },
          "base_uri": "https://localhost:8080/",
          "height": 85
        },
        "outputId": "58f7fd00-258a-44a1-a50e-38aa5843be0a",
        "executionInfo": {
          "status": "ok",
          "timestamp": 1530026490841,
          "user_tz": 420,
          "elapsed": 310,
          "user": {
            "displayName": "Leifur Sigurdsson",
            "photoUrl": "https://lh3.googleusercontent.com/a/default-user=s128",
            "userId": "111769075670530589535"
          }
        }
      },
      "cell_type": "code",
      "source": [
        "# Percentage of users that drink  1 = Social Drinker:  0 = Not a Drinker:  2 = Heavy Drinker:\n",
        "df_okc[\"drinks\"].value_counts()\n",
        "\n",
        "drinks = df_okc['drinks'].map({\"socially\": 1,\n",
        "                               \"rarely\": 0,\n",
        "                               \"often\": 1,\n",
        "                               \"not at all\": 0,\n",
        "                               \"very often\": 2,\n",
        "                               \"desperately\": 2})\n",
        "drinks.value_counts()/len(drinks)"
      ],
      "execution_count": 12,
      "outputs": [
        {
          "output_type": "execute_result",
          "data": {
            "text/plain": [
              "1.0    0.783101\n",
              "0.0    0.153858\n",
              "2.0    0.013229\n",
              "Name: drinks, dtype: float64"
            ]
          },
          "metadata": {
            "tags": []
          },
          "execution_count": 12
        }
      ]
    },
    {
      "metadata": {
        "id": "Qhifq-VWbgIw",
        "colab_type": "text"
      },
      "cell_type": "markdown",
      "source": [
        "# **Level of Education**"
      ]
    },
    {
      "metadata": {
        "id": "yKKzY5VkbfSq",
        "colab_type": "code",
        "colab": {
          "autoexec": {
            "startup": false,
            "wait_interval": 0
          },
          "base_uri": "https://localhost:8080/",
          "height": 615
        },
        "outputId": "70cfadbb-d70d-4b67-86b8-ff8cd9ba9f4a",
        "executionInfo": {
          "status": "ok",
          "timestamp": 1530324268498,
          "user_tz": 420,
          "elapsed": 377,
          "user": {
            "displayName": "Leifur Sigurdsson",
            "photoUrl": "https://lh3.googleusercontent.com/a/default-user=s128",
            "userId": "111769075670530589535"
          }
        }
      },
      "cell_type": "code",
      "source": [
        "df_okc[\"education\"].value_counts()"
      ],
      "execution_count": 61,
      "outputs": [
        {
          "output_type": "execute_result",
          "data": {
            "text/plain": [
              "graduated from college/university                                                                                                                                                                                                                                                                                                                                                                                                                                                                                                                                                                                                                                                                            23958\n",
              "graduated from masters program                                                                                                                                                                                                                                                                                                                                                                                                                                                                                                                                                                                                                                                                                8961\n",
              "working on college/university                                                                                                                                                                                                                                                                                                                                                                                                                                                                                                                                                                                                                                                                                 5712\n",
              "working on masters program                                                                                                                                                                                                                                                                                                                                                                                                                                                                                                                                                                                                                                                                                    1683\n",
              "graduated from two-year college                                                                                                                                                                                                                                                                                                                                                                                                                                                                                                                                                                                                                                                                               1531\n",
              "graduated from high school                                                                                                                                                                                                                                                                                                                                                                                                                                                                                                                                                                                                                                                                                    1428\n",
              "graduated from ph.d program                                                                                                                                                                                                                                                                                                                                                                                                                                                                                                                                                                                                                                                                                   1271\n",
              "graduated from law school                                                                                                                                                                                                                                                                                                                                                                                                                                                                                                                                                                                                                                                                                     1122\n",
              "working on two-year college                                                                                                                                                                                                                                                                                                                                                                                                                                                                                                                                                                                                                                                                                   1074\n",
              "dropped out of college/university                                                                                                                                                                                                                                                                                                                                                                                                                                                                                                                                                                                                                                                                              995\n",
              "working on ph.d program                                                                                                                                                                                                                                                                                                                                                                                                                                                                                                                                                                                                                                                                                        983\n",
              "college/university                                                                                                                                                                                                                                                                                                                                                                                                                                                                                                                                                                                                                                                                                             801\n",
              "graduated from space camp                                                                                                                                                                                                                                                                                                                                                                                                                                                                                                                                                                                                                                                                                      657\n",
              "dropped out of space camp                                                                                                                                                                                                                                                                                                                                                                                                                                                                                                                                                                                                                                                                                      523\n",
              "graduated from med school                                                                                                                                                                                                                                                                                                                                                                                                                                                                                                                                                                                                                                                                                      446\n",
              "working on space camp                                                                                                                                                                                                                                                                                                                                                                                                                                                                                                                                                                                                                                                                                          445\n",
              "working on law school                                                                                                                                                                                                                                                                                                                                                                                                                                                                                                                                                                                                                                                                                          269\n",
              "two-year college                                                                                                                                                                                                                                                                                                                                                                                                                                                                                                                                                                                                                                                                                               222\n",
              "working on med school                                                                                                                                                                                                                                                                                                                                                                                                                                                                                                                                                                                                                                                                                          212\n",
              "dropped out of two-year college                                                                                                                                                                                                                                                                                                                                                                                                                                                                                                                                                                                                                                                                                191\n",
              "dropped out of masters program                                                                                                                                                                                                                                                                                                                                                                                                                                                                                                                                                                                                                                                                                 140\n",
              "masters program                                                                                                                                                                                                                                                                                                                                                                                                                                                                                                                                                                                                                                                                                                136\n",
              "dropped out of ph.d program                                                                                                                                                                                                                                                                                                                                                                                                                                                                                                                                                                                                                                                                                    127\n",
              "dropped out of high school                                                                                                                                                                                                                                                                                                                                                                                                                                                                                                                                                                                                                                                                                     102\n",
              "high school                                                                                                                                                                                                                                                                                                                                                                                                                                                                                                                                                                                                                                                                                                     96\n",
              "working on high school                                                                                                                                                                                                                                                                                                                                                                                                                                                                                                                                                                                                                                                                                          87\n",
              "space camp                                                                                                                                                                                                                                                                                                                                                                                                                                                                                                                                                                                                                                                                                                      58\n",
              "ph.d program                                                                                                                                                                                                                                                                                                                                                                                                                                                                                                                                                                                                                                                                                                    26\n",
              "law school                                                                                                                                                                                                                                                                                                                                                                                                                                                                                                                                                                                                                                                                                                      19\n",
              "dropped out of law school                                                                                                                                                                                                                                                                                                                                                                                                                                                                                                                                                                                                                                                                                       18\n",
              "dropped out of med school                                                                                                                                                                                                                                                                                                                                                                                                                                                                                                                                                                                                                                                                                       12\n",
              "med school                                                                                                                                                                                                                                                                                                                                                                                                                                                                                                                                                                                                                                                                                                      11\n",
              "you're looking for someone that's easy to talk to on a variety of\\nsubjects (except acrylic nails - of which i know jack),\\nspontaneous, and well known for his humor.<br />\\n<br />\\nyou're looking for an honest comrade in arms for ventures into a\\nnew art gallery or burrito joint. we can pretend that we hid the\\nconquistador treasure in a taqueria bathroom and scare away all of\\nthe customers!<br />\\n<br />\\nyou'd like to help me waste away hours in the late afternoon\\nstaring at the ocean, humming our own twee songs, nauseating those\\nthat are too ironic for romance.<br />\\n<br />\\nyou like tommy wiseau's the room. \"you know what they say? love is\\nblind.\" mu ha ha ha ha.        1\n",
              "Name: education, dtype: int64"
            ]
          },
          "metadata": {
            "tags": []
          },
          "execution_count": 61
        }
      ]
    },
    {
      "metadata": {
        "id": "7UHT8fgHcrkA",
        "colab_type": "code",
        "colab": {
          "autoexec": {
            "startup": false,
            "wait_interval": 0
          },
          "base_uri": "https://localhost:8080/",
          "height": 119
        },
        "outputId": "74db4953-6bde-4395-e3aa-afb6751958f8",
        "executionInfo": {
          "status": "ok",
          "timestamp": 1530325834336,
          "user_tz": 420,
          "elapsed": 381,
          "user": {
            "displayName": "Leifur Sigurdsson",
            "photoUrl": "https://lh3.googleusercontent.com/a/default-user=s128",
            "userId": "111769075670530589535"
          }
        }
      },
      "cell_type": "code",
      "source": [
        "education = df_okc[\"education\"].map({\"graduated from college/university\": 4,\n",
        "                                    \"graduated from masters program\": 6,\n",
        "                                    \"working on college/university\": 2,\n",
        "                                    \"working on masters program\": 4,\n",
        "                                    \"graduated from two-year college\": 2,\n",
        "                                    \"graduated from high school\": 0,\n",
        "                                    \"graduated from ph.d program\": 8,\n",
        "                                    \"graduated from law school\": 6,\n",
        "                                    \"working on two-year college\": 0,\n",
        "                                    \"dropped out of college/university\": 0,\n",
        "                                    \"working on ph.d program\": 6,\n",
        "                                    \"college/university\": 4,\n",
        "                                    \"graduated from space camp\": 0,\n",
        "                                    \"dropped out of space camp\": 0,\n",
        "                                    \"graduated from med school\": 6,\n",
        "                                    \"working on space camp\": 0,\n",
        "                                    \"working on law school\": 4,\n",
        "                                    \"two-year college\": 2,\n",
        "                                    \"working on med school\": 2,\n",
        "                                    \"dropped out of two-year college\": 0,\n",
        "                                    \"dropped out of masters program\": 4,\n",
        "                                    \"masters program\": 6,\n",
        "                                    \"dropped out of ph.d program\": 6,\n",
        "                                    \"dropped out of high school\": 0,\n",
        "                                    \"high school\": 0,\n",
        "                                    \"working on high school\": 0,\n",
        "                                    \"space camp\": 0,\n",
        "                                    \"ph.d program\": 8,\n",
        "                                    \"law school\": 6,\n",
        "                                    \"dropped out of law school\": 4,\n",
        "                                    \"dropped out of med school\": 4,\n",
        "                                    \"med school\": 6,}).dropna()\n",
        "\n",
        "\n",
        "# Education degrees achieved \n",
        "education.value_counts(normalize=True)"
      ],
      "execution_count": 67,
      "outputs": [
        {
          "output_type": "execute_result",
          "data": {
            "text/plain": [
              "4.0    0.504183\n",
              "6.0    0.221416\n",
              "2.0    0.143991\n",
              "0.0    0.106084\n",
              "8.0    0.024327\n",
              "Name: education, dtype: float64"
            ]
          },
          "metadata": {
            "tags": []
          },
          "execution_count": 67
        }
      ]
    },
    {
      "metadata": {
        "id": "jfmgEB5ChYfU",
        "colab_type": "code",
        "colab": {
          "autoexec": {
            "startup": false,
            "wait_interval": 0
          },
          "base_uri": "https://localhost:8080/",
          "height": 170
        },
        "outputId": "47c71b27-dc51-42f9-ecdb-25d872087a67",
        "executionInfo": {
          "status": "ok",
          "timestamp": 1530325837948,
          "user_tz": 420,
          "elapsed": 347,
          "user": {
            "displayName": "Leifur Sigurdsson",
            "photoUrl": "https://lh3.googleusercontent.com/a/default-user=s128",
            "userId": "111769075670530589535"
          }
        }
      },
      "cell_type": "code",
      "source": [
        "education.describe()"
      ],
      "execution_count": 68,
      "outputs": [
        {
          "output_type": "execute_result",
          "data": {
            "text/plain": [
              "count    53316.000000\n",
              "mean         3.827819\n",
              "std          1.875799\n",
              "min          0.000000\n",
              "25%          2.000000\n",
              "50%          4.000000\n",
              "75%          4.000000\n",
              "max          8.000000\n",
              "Name: education, dtype: float64"
            ]
          },
          "metadata": {
            "tags": []
          },
          "execution_count": 68
        }
      ]
    },
    {
      "metadata": {
        "id": "coi_kQckqJc9",
        "colab_type": "text"
      },
      "cell_type": "markdown",
      "source": [
        "# **Religion**"
      ]
    },
    {
      "metadata": {
        "id": "npoBk6Nqjykb",
        "colab_type": "code",
        "colab": {
          "autoexec": {
            "startup": false,
            "wait_interval": 0
          },
          "base_uri": "https://localhost:8080/",
          "height": 85
        },
        "outputId": "c2f11e34-b0cf-4049-b249-53c8c3c186d4",
        "executionInfo": {
          "status": "ok",
          "timestamp": 1530328906295,
          "user_tz": 420,
          "elapsed": 355,
          "user": {
            "displayName": "Leifur Sigurdsson",
            "photoUrl": "https://lh3.googleusercontent.com/a/default-user=s128",
            "userId": "111769075670530589535"
          }
        }
      },
      "cell_type": "code",
      "source": [
        "# Group by Religion\n",
        "# 0 = Non religious or \"laughing about it\"\n",
        "# 1 = somewhat religious or not to serious\n",
        "# 2 = very religious\n",
        "\n",
        "# Exception is agnostic gets a down vote because it is not an organized religion\n",
        "# Atheism is always 0\n",
        "# Other = 1 unless not serious\n",
        "df_okc[\"religious\"] = df_okc[\"religion\"].map({\"agnosticism\": 1,\n",
        "                                              \"other\": 1,\n",
        "                                              \"agnosticism but not too serious about it\": 0,\n",
        "                                              \"agnosticism and laughing about it\": 0,\n",
        "                                              \"catholicism but not too serious about it\": 1,\n",
        "                                              \"atheism\": 0,\n",
        "                                              \"other and laughing about it\": 0,\n",
        "                                              \"atheism and laughing about it\": 0,\n",
        "                                              \"christianity\": 2,\n",
        "                                              \"christianity but not too serious about it\": 1,\n",
        "                                              \"other but not too serious about it\": 1,\n",
        "                                              \"judaism but not too serious about it\": 1,\n",
        "                                              \"atheism but not too serious about it\": 0,\n",
        "                                              \"catholicism\": 2,\n",
        "                                              \"christianity and somewhat serious about it\": 2,\n",
        "                                              \"atheism and somewhat serious about it\": 0,\n",
        "                                              \"other and somewhat serious about it\": 1,\n",
        "                                              \"catholicism and laughing about it\": 0,\n",
        "                                              \"judaism and laughing about it\": 0,\n",
        "                                              \"buddhism but not too serious about it\": 1,\n",
        "                                              \"agnosticism and somewhat serious about it\": 1,\n",
        "                                              \"judaism\": 2,\n",
        "                                              \"christianity and very serious about it\": 2,\n",
        "                                              \"atheism and very serious about it\": 0,\n",
        "                                              \"catholicism and somewhat serious about it\": 2,\n",
        "                                              \"other and very serious about it\": 2,\n",
        "                                              \"buddhism and laughing about it\": 0,\n",
        "                                              \"buddhism\": 2,\n",
        "                                              \"christianity and laughing about it\": 0,\n",
        "                                              \"buddhism and somewhat serious about it\": 2,\n",
        "                                              \"agnosticism and very serious about it\": 1,\n",
        "                                              \"judaism and somewhat serious about it\": 2,\n",
        "                                              \"hinduism but not too serious about it\": 1,\n",
        "                                              \"hinduism\": 2,\n",
        "                                              \"catholicism and very serious about it\": 2,\n",
        "                                              \"buddhism and very serious about it\": 2,\n",
        "                                              \"hinduism and somewhat serious about it\": 2,\n",
        "                                              \"islam\": 2,\n",
        "                                              \"hinduism and laughing about it\": 0,\n",
        "                                              \"islam but not too serious about it\": 1,\n",
        "                                              \"judaism and very serious about it\": 2,\n",
        "                                              \"islam and somewhat serious about it\": 2,\n",
        "                                              \"islam and laughing about it\": 0,\n",
        "                                              \"hinduism and very serious about it\": 2,\n",
        "                                              \"islam and very serious about it\": 2,\n",
        "                                             })\n",
        "\n",
        "religious = df_okc[\"religious\"].dropna()\n",
        "\n",
        "religious.value_counts(normalize =True)\n",
        "# 0 = Non religious \n",
        "# 1 = Somewhat\n",
        "# 2 = Very\n",
        "\n"
      ],
      "execution_count": 90,
      "outputs": [
        {
          "output_type": "execute_result",
          "data": {
            "text/plain": [
              "0.0    0.416446\n",
              "1.0    0.389606\n",
              "2.0    0.193947\n",
              "Name: religious, dtype: float64"
            ]
          },
          "metadata": {
            "tags": []
          },
          "execution_count": 90
        }
      ]
    },
    {
      "metadata": {
        "id": "8zyo3qmWu_AN",
        "colab_type": "code",
        "colab": {
          "autoexec": {
            "startup": false,
            "wait_interval": 0
          },
          "base_uri": "https://localhost:8080/",
          "height": 297
        },
        "outputId": "115e7eee-c2e5-4568-f81a-33e8758576b2",
        "executionInfo": {
          "status": "ok",
          "timestamp": 1530331266256,
          "user_tz": 420,
          "elapsed": 330,
          "user": {
            "displayName": "Leifur Sigurdsson",
            "photoUrl": "https://lh3.googleusercontent.com/a/default-user=s128",
            "userId": "111769075670530589535"
          }
        }
      },
      "cell_type": "code",
      "source": [
        "# Sub set Drop NA\n",
        "subrel = df_okc[[\"income\",\"religious\",\"age\"]].dropna()\n",
        "\n",
        "# Remove Outliers\n",
        "subrel = subrel[subrel[\"income\"] > 1] \n",
        "subrel = subrel[subrel[\"income\"] < 300000]\n",
        "\n",
        "# Convert data type\n",
        "subrel[\"religious\"] = subrel[\"religious\"].astype(\"category\")\n",
        "subrel.describe()"
      ],
      "execution_count": 138,
      "outputs": [
        {
          "output_type": "execute_result",
          "data": {
            "text/html": [
              "<div>\n",
              "<style scoped>\n",
              "    .dataframe tbody tr th:only-of-type {\n",
              "        vertical-align: middle;\n",
              "    }\n",
              "\n",
              "    .dataframe tbody tr th {\n",
              "        vertical-align: top;\n",
              "    }\n",
              "\n",
              "    .dataframe thead th {\n",
              "        text-align: right;\n",
              "    }\n",
              "</style>\n",
              "<table border=\"1\" class=\"dataframe\">\n",
              "  <thead>\n",
              "    <tr style=\"text-align: right;\">\n",
              "      <th></th>\n",
              "      <th>income</th>\n",
              "      <th>age</th>\n",
              "    </tr>\n",
              "  </thead>\n",
              "  <tbody>\n",
              "    <tr>\n",
              "      <th>count</th>\n",
              "      <td>8578.000000</td>\n",
              "      <td>8578.000000</td>\n",
              "    </tr>\n",
              "    <tr>\n",
              "      <th>mean</th>\n",
              "      <td>58503.147587</td>\n",
              "      <td>33.050944</td>\n",
              "    </tr>\n",
              "    <tr>\n",
              "      <th>std</th>\n",
              "      <td>41556.770660</td>\n",
              "      <td>10.192039</td>\n",
              "    </tr>\n",
              "    <tr>\n",
              "      <th>min</th>\n",
              "      <td>20000.000000</td>\n",
              "      <td>18.000000</td>\n",
              "    </tr>\n",
              "    <tr>\n",
              "      <th>25%</th>\n",
              "      <td>20000.000000</td>\n",
              "      <td>26.000000</td>\n",
              "    </tr>\n",
              "    <tr>\n",
              "      <th>50%</th>\n",
              "      <td>50000.000000</td>\n",
              "      <td>30.000000</td>\n",
              "    </tr>\n",
              "    <tr>\n",
              "      <th>75%</th>\n",
              "      <td>80000.000000</td>\n",
              "      <td>38.000000</td>\n",
              "    </tr>\n",
              "    <tr>\n",
              "      <th>max</th>\n",
              "      <td>250000.000000</td>\n",
              "      <td>69.000000</td>\n",
              "    </tr>\n",
              "  </tbody>\n",
              "</table>\n",
              "</div>"
            ],
            "text/plain": [
              "              income          age\n",
              "count    8578.000000  8578.000000\n",
              "mean    58503.147587    33.050944\n",
              "std     41556.770660    10.192039\n",
              "min     20000.000000    18.000000\n",
              "25%     20000.000000    26.000000\n",
              "50%     50000.000000    30.000000\n",
              "75%     80000.000000    38.000000\n",
              "max    250000.000000    69.000000"
            ]
          },
          "metadata": {
            "tags": []
          },
          "execution_count": 138
        }
      ]
    },
    {
      "metadata": {
        "id": "7rDACn5c2VzQ",
        "colab_type": "code",
        "colab": {
          "autoexec": {
            "startup": false,
            "wait_interval": 0
          },
          "base_uri": "https://localhost:8080/",
          "height": 350
        },
        "outputId": "b126c812-e55a-4d01-efb1-f8c7cb797cff",
        "executionInfo": {
          "status": "ok",
          "timestamp": 1530335276072,
          "user_tz": 420,
          "elapsed": 1753,
          "user": {
            "displayName": "Leifur Sigurdsson",
            "photoUrl": "https://lh3.googleusercontent.com/a/default-user=s128",
            "userId": "111769075670530589535"
          }
        }
      },
      "cell_type": "code",
      "source": [
        "sns.regplot(x='age', y='income', data=subrel[subrel['religious'] == 0], color='crimson', marker='.', label='Non-Religious', scatter_kws={'alpha':0.3})\n",
        "sns.regplot(x='age', y='income', data=subrel[subrel['religious'] == 1], color='darkblue', marker='.', label='Somewhat', scatter_kws={'alpha':0.3})\n",
        "sns.regplot(x='age', y='income', data=subrel[subrel['religious'] == 2], color='g', marker='.', label='Very Religious', scatter_kws={'alpha':0.3})\n",
        "plt.title('Income by Age by Religious < $300000 \\n\\n \\\n",
        "According to my buckets there is a corrolation between religion and income \\n across all ages. \\n') \n",
        "\n",
        "plt.legend() \n",
        "\n",
        "plt.show()"
      ],
      "execution_count": 149,
      "outputs": [
        {
          "output_type": "display_data",
          "data": {
            "image/png": "[encoded data removed]",
            "text/plain": [
              "<matplotlib.figure.Figure at 0x7f34cbb3e470>"
            ]
          },
          "metadata": {
            "tags": []
          }
        }
      ]
    },
    {
      "metadata": {
        "id": "YgV83yQn8-95",
        "colab_type": "text"
      },
      "cell_type": "markdown",
      "source": [
        "# Potential for pet food Advertisments? \n",
        "\n",
        "**Takeaways**\n",
        "\n",
        "*   Yes, San Francisco would be an excellent market for pet advertisement on OkCupid especially for Dogs! \n",
        "\n",
        "  *   92% of users like or own Dogs\n",
        "  *   64% of users like or own Cats\n",
        "\n"
      ]
    },
    {
      "metadata": {
        "id": "BR4UXo83ai9Z",
        "colab_type": "code",
        "colab": {
          "autoexec": {
            "startup": false,
            "wait_interval": 0
          },
          "base_uri": "https://localhost:8080/",
          "height": 34
        },
        "outputId": "ac0e5ebf-c56a-43b9-9dbf-56556fc84882",
        "executionInfo": {
          "status": "ok",
          "timestamp": 1529982407306,
          "user_tz": 420,
          "elapsed": 327,
          "user": {
            "displayName": "Leifur Sigurdsson",
            "photoUrl": "https://lh3.googleusercontent.com/a/default-user=s128",
            "userId": "111769075670530589535"
          }
        }
      },
      "cell_type": "code",
      "source": [
        "# 92% of users like dogs in San Francisco\n",
        "\n",
        "(len(subpet[subpet[\"dogs\"] == 1])+len(subpet[subpet[\"dogs\"] == 2]))/len(subpet[\"dogs\"])"
      ],
      "execution_count": 87,
      "outputs": [
        {
          "output_type": "execute_result",
          "data": {
            "text/plain": [
              "0.921245283961722"
            ]
          },
          "metadata": {
            "tags": []
          },
          "execution_count": 87
        }
      ]
    },
    {
      "metadata": {
        "id": "WaqtDZ6CZoYm",
        "colab_type": "code",
        "colab": {
          "autoexec": {
            "startup": false,
            "wait_interval": 0
          },
          "base_uri": "https://localhost:8080/",
          "height": 85
        },
        "outputId": "bd18d252-bff6-45f6-fd60-a5aa97f50257",
        "executionInfo": {
          "status": "ok",
          "timestamp": 1529981825994,
          "user_tz": 420,
          "elapsed": 355,
          "user": {
            "displayName": "Leifur Sigurdsson",
            "photoUrl": "https://lh3.googleusercontent.com/a/default-user=s128",
            "userId": "111769075670530589535"
          }
        }
      },
      "cell_type": "code",
      "source": [
        "# Subset for user interest in dogs\n",
        "\n",
        "subpet = df_okc[[\"pets\", \"income\", \"last_online\", \"age\"]].dropna()\n",
        "\n",
        "\n",
        "subpet[\"dogs\"] = subpet[\"pets\"]\n",
        "subpet[\"dogs\"] = subpet[\"dogs\"].map({'has dogs': 1, \n",
        "                                     'has dogs and likes cats': 1,\n",
        "                                     'has dogs and has cats': 1, \n",
        "                                     'has dogs and dislikes cats': 1, \n",
        "                                     'likes dogs and likes cats': 2, \n",
        "                                     'likes dogs': 2, \n",
        "                                     'likes dogs and has cats': 2, \n",
        "                                     'likes dogs and dislikes cats': 2, \n",
        "                                     'has cats': 0, \n",
        "                                     'likes cats': 0, \n",
        "                                     'dislikes dogs and likes cats': 0, \n",
        "                                     'dislikes dogs and dislikes cats': 0, \n",
        "                                     'dislikes cats': 0, \n",
        "                                     'dislikes dogs and has cats': 0, \n",
        "                                     'dislikes dogs': 0})\n",
        "subpet[\"dogs\"] = pd.to_numeric(subpet[\"dogs\"]) \n",
        "subpet[\"dogs\"].value_counts()"
      ],
      "execution_count": 75,
      "outputs": [
        {
          "output_type": "execute_result",
          "data": {
            "text/plain": [
              "2    28379\n",
              "1     8492\n",
              "0     3152\n",
              "Name: dogs, dtype: int64"
            ]
          },
          "metadata": {
            "tags": []
          },
          "execution_count": 75
        }
      ]
    },
    {
      "metadata": {
        "id": "S6QsTvqVEJD_",
        "colab_type": "code",
        "colab": {
          "autoexec": {
            "startup": false,
            "wait_interval": 0
          },
          "base_uri": "https://localhost:8080/",
          "height": 34
        },
        "outputId": "a1246698-ddce-4b44-b9ca-cc7cfb7540c7",
        "executionInfo": {
          "status": "ok",
          "timestamp": 1529982544254,
          "user_tz": 420,
          "elapsed": 352,
          "user": {
            "displayName": "Leifur Sigurdsson",
            "photoUrl": "https://lh3.googleusercontent.com/a/default-user=s128",
            "userId": "111769075670530589535"
          }
        }
      },
      "cell_type": "code",
      "source": [
        "# 64% of users like cats in San Francisco\n",
        "\n",
        "(len(subpet[subpet[\"cats\"] == 1])+len(subpet[subpet[\"cats\"] == 2]))/len(subpet[\"cats\"])"
      ],
      "execution_count": 88,
      "outputs": [
        {
          "output_type": "execute_result",
          "data": {
            "text/plain": [
              "0.6427054443694875"
            ]
          },
          "metadata": {
            "tags": []
          },
          "execution_count": 88
        }
      ]
    },
    {
      "metadata": {
        "id": "HfgvYH7irXIo",
        "colab_type": "code",
        "colab": {
          "autoexec": {
            "startup": false,
            "wait_interval": 0
          },
          "base_uri": "https://localhost:8080/",
          "height": 85
        },
        "outputId": "9d44a4a4-027f-4709-9190-3573649bdf03",
        "executionInfo": {
          "status": "ok",
          "timestamp": 1529981866442,
          "user_tz": 420,
          "elapsed": 552,
          "user": {
            "displayName": "Leifur Sigurdsson",
            "photoUrl": "https://lh3.googleusercontent.com/a/default-user=s128",
            "userId": "111769075670530589535"
          }
        }
      },
      "cell_type": "code",
      "source": [
        "# Subset for users interest in Cats\n",
        "subpet[\"cats\"] = subpet[\"pets\"]\n",
        "subpet[\"cats\"] = subpet[\"cats\"].map({'has dogs': 0, \n",
        "                                     'has dogs and likes cats': 2,\n",
        "                                     'has dogs and has cats': 1, \n",
        "                                     'has dogs and dislikes cats': 0, \n",
        "                                     'likes dogs and likes cats': 2, \n",
        "                                     'likes dogs': 0, \n",
        "                                     'likes dogs and has cats': 1, \n",
        "                                     'likes dogs and dislikes cats': 0, \n",
        "                                     'has cats': 1, \n",
        "                                     'likes cats': 2, \n",
        "                                     'dislikes dogs and likes cats': 2, \n",
        "                                     'dislikes dogs and dislikes cats': 0, \n",
        "                                     'dislikes cats': 0, \n",
        "                                     'dislikes dogs and has cats': 1, \n",
        "                                     'dislikes dogs': 0})\n",
        "subpet[\"cats\"] = pd.to_numeric(subpet[\"cats\"]) \n",
        "subpet[\"cats\"].value_counts()"
      ],
      "execution_count": 77,
      "outputs": [
        {
          "output_type": "execute_result",
          "data": {
            "text/plain": [
              "2    18449\n",
              "0    14300\n",
              "1     7274\n",
              "Name: cats, dtype: int64"
            ]
          },
          "metadata": {
            "tags": []
          },
          "execution_count": 77
        }
      ]
    },
    {
      "metadata": {
        "id": "kEcr3YSHEuzy",
        "colab_type": "code",
        "colab": {
          "autoexec": {
            "startup": false,
            "wait_interval": 0
          },
          "base_uri": "https://localhost:8080/",
          "height": 421
        },
        "outputId": "f822bda1-aae1-4076-a204-d0d2208c7889",
        "executionInfo": {
          "status": "ok",
          "timestamp": 1529982635672,
          "user_tz": 420,
          "elapsed": 602,
          "user": {
            "displayName": "Leifur Sigurdsson",
            "photoUrl": "https://lh3.googleusercontent.com/a/default-user=s128",
            "userId": "111769075670530589535"
          }
        }
      },
      "cell_type": "code",
      "source": [
        "sns.countplot(x=subpet['dogs'])\n",
        "plt.legend()\n",
        "plt.title(\"\\n Customers that do or don't like DOGS \\n\\n 92% like or own dogs\")\n",
        "plt.ylabel('Count per Group')\n",
        "plt.xlabel('0=Dislikes,  1=Owns,  2=Likes')\n",
        "plt.legend()"
      ],
      "execution_count": 89,
      "outputs": [
        {
          "output_type": "stream",
          "text": [
            "/usr/local/lib/python3.6/dist-packages/seaborn/categorical.py:1428: FutureWarning: remove_na is deprecated and is a private function. Do not use.\n",
            "  stat_data = remove_na(group_data)\n",
            "No handles with labels found to put in legend.\n",
            "No handles with labels found to put in legend.\n"
          ],
          "name": "stderr"
        },
        {
          "output_type": "execute_result",
          "data": {
            "text/plain": [
              "<matplotlib.legend.Legend at 0x7f9ac1ea8c88>"
            ]
          },
          "metadata": {
            "tags": []
          },
          "execution_count": 89
        },
        {
          "output_type": "display_data",
          "data": {
            "image/png": "[encoded data removed]",
            "text/plain": [
              "<matplotlib.figure.Figure at 0x7f9ac1da2ba8>"
            ]
          },
          "metadata": {
            "tags": []
          }
        }
      ]
    },
    {
      "metadata": {
        "id": "7pLgCs2CsTgb",
        "colab_type": "code",
        "colab": {
          "autoexec": {
            "startup": false,
            "wait_interval": 0
          },
          "base_uri": "https://localhost:8080/",
          "height": 404
        },
        "outputId": "16f3e923-55e0-4df2-c53b-80c5831283c2",
        "executionInfo": {
          "status": "ok",
          "timestamp": 1529982670800,
          "user_tz": 420,
          "elapsed": 538,
          "user": {
            "displayName": "Leifur Sigurdsson",
            "photoUrl": "https://lh3.googleusercontent.com/a/default-user=s128",
            "userId": "111769075670530589535"
          }
        }
      },
      "cell_type": "code",
      "source": [
        "sns.countplot(x=subpet['cats'])\n",
        "plt.legend()\n",
        "plt.title(\"\\n Customers that do or don't like CATS \\n\\n 64% like or own cats\")\n",
        "plt.ylabel('Count per Group')\n",
        "plt.xlabel('0=Dislikes, 1=Owns, 2=Likes')"
      ],
      "execution_count": 90,
      "outputs": [
        {
          "output_type": "stream",
          "text": [
            "/usr/local/lib/python3.6/dist-packages/seaborn/categorical.py:1428: FutureWarning: remove_na is deprecated and is a private function. Do not use.\n",
            "  stat_data = remove_na(group_data)\n",
            "No handles with labels found to put in legend.\n"
          ],
          "name": "stderr"
        },
        {
          "output_type": "execute_result",
          "data": {
            "text/plain": [
              "Text(0.5,0,'0=Dislikes, 1=Owns, 2=Likes')"
            ]
          },
          "metadata": {
            "tags": []
          },
          "execution_count": 90
        },
        {
          "output_type": "display_data",
          "data": {
            "image/png": "[encoded data removed]",
            "text/plain": [
              "<matplotlib.figure.Figure at 0x7f9ac1dab8d0>"
            ]
          },
          "metadata": {
            "tags": []
          }
        }
      ]
    },
    {
      "metadata": {
        "id": "dQlzchmoalc6",
        "colab_type": "text"
      },
      "cell_type": "markdown",
      "source": [
        "# Random Analysis"
      ]
    },
    {
      "metadata": {
        "id": "mdcUtAq_KRuT",
        "colab_type": "text"
      },
      "cell_type": "markdown",
      "source": [
        "Out of curiosity I analyzed how height effected income and discovered no corrolation.\n",
        "\n",
        "\n"
      ]
    },
    {
      "metadata": {
        "id": "0hHyFGpE41DR",
        "colab_type": "code",
        "colab": {
          "autoexec": {
            "startup": false,
            "wait_interval": 0
          },
          "base_uri": "https://localhost:8080/",
          "height": 297
        },
        "outputId": "443e94d7-7800-4cdc-fafe-2747b80c77f4",
        "executionInfo": {
          "status": "ok",
          "timestamp": 1530026960580,
          "user_tz": 420,
          "elapsed": 697,
          "user": {
            "displayName": "Leifur Sigurdsson",
            "photoUrl": "https://lh3.googleusercontent.com/a/default-user=s128",
            "userId": "111769075670530589535"
          }
        }
      },
      "cell_type": "code",
      "source": [
        "# remove outliers people over 80 and under 2'11\"\n",
        "\n",
        "subset = subset[subset['age'] < 80]\n",
        "subset = subset[subset['height'] >= 36]\n",
        "\n",
        "subset.describe()"
      ],
      "execution_count": 19,
      "outputs": [
        {
          "output_type": "execute_result",
          "data": {
            "text/html": [
              "<div>\n",
              "<style scoped>\n",
              "    .dataframe tbody tr th:only-of-type {\n",
              "        vertical-align: middle;\n",
              "    }\n",
              "\n",
              "    .dataframe tbody tr th {\n",
              "        vertical-align: top;\n",
              "    }\n",
              "\n",
              "    .dataframe thead th {\n",
              "        text-align: right;\n",
              "    }\n",
              "</style>\n",
              "<table border=\"1\" class=\"dataframe\">\n",
              "  <thead>\n",
              "    <tr style=\"text-align: right;\">\n",
              "      <th></th>\n",
              "      <th>age</th>\n",
              "      <th>height</th>\n",
              "      <th>income</th>\n",
              "    </tr>\n",
              "  </thead>\n",
              "  <tbody>\n",
              "    <tr>\n",
              "      <th>count</th>\n",
              "      <td>59931.000000</td>\n",
              "      <td>59931.000000</td>\n",
              "      <td>59931.000000</td>\n",
              "    </tr>\n",
              "    <tr>\n",
              "      <th>mean</th>\n",
              "      <td>32.337238</td>\n",
              "      <td>68.301830</td>\n",
              "      <td>20019.214914</td>\n",
              "    </tr>\n",
              "    <tr>\n",
              "      <th>std</th>\n",
              "      <td>9.442003</td>\n",
              "      <td>3.939538</td>\n",
              "      <td>97275.321411</td>\n",
              "    </tr>\n",
              "    <tr>\n",
              "      <th>min</th>\n",
              "      <td>18.000000</td>\n",
              "      <td>36.000000</td>\n",
              "      <td>-1.000000</td>\n",
              "    </tr>\n",
              "    <tr>\n",
              "      <th>25%</th>\n",
              "      <td>26.000000</td>\n",
              "      <td>66.000000</td>\n",
              "      <td>-1.000000</td>\n",
              "    </tr>\n",
              "    <tr>\n",
              "      <th>50%</th>\n",
              "      <td>30.000000</td>\n",
              "      <td>68.000000</td>\n",
              "      <td>-1.000000</td>\n",
              "    </tr>\n",
              "    <tr>\n",
              "      <th>75%</th>\n",
              "      <td>37.000000</td>\n",
              "      <td>71.000000</td>\n",
              "      <td>-1.000000</td>\n",
              "    </tr>\n",
              "    <tr>\n",
              "      <th>max</th>\n",
              "      <td>69.000000</td>\n",
              "      <td>95.000000</td>\n",
              "      <td>1000000.000000</td>\n",
              "    </tr>\n",
              "  </tbody>\n",
              "</table>\n",
              "</div>"
            ],
            "text/plain": [
              "                age        height          income\n",
              "count  59931.000000  59931.000000    59931.000000\n",
              "mean      32.337238     68.301830    20019.214914\n",
              "std        9.442003      3.939538    97275.321411\n",
              "min       18.000000     36.000000       -1.000000\n",
              "25%       26.000000     66.000000       -1.000000\n",
              "50%       30.000000     68.000000       -1.000000\n",
              "75%       37.000000     71.000000       -1.000000\n",
              "max       69.000000     95.000000  1000000.000000"
            ]
          },
          "metadata": {
            "tags": []
          },
          "execution_count": 19
        }
      ]
    },
    {
      "metadata": {
        "id": "C3Raemj5PgAt",
        "colab_type": "code",
        "colab": {
          "autoexec": {
            "startup": false,
            "wait_interval": 0
          },
          "base_uri": "https://localhost:8080/",
          "height": 17
        },
        "outputId": "1fac347a-cb6c-46af-82f2-0836a1105b7b",
        "executionInfo": {
          "status": "ok",
          "timestamp": 1530322889073,
          "user_tz": 420,
          "elapsed": 327,
          "user": {
            "displayName": "Leifur Sigurdsson",
            "photoUrl": "https://lh3.googleusercontent.com/a/default-user=s128",
            "userId": "111769075670530589535"
          }
        }
      },
      "cell_type": "code",
      "source": [
        "\n",
        "\n"
      ],
      "execution_count": 38,
      "outputs": []
    },
    {
      "metadata": {
        "id": "P7u1-mjpx90H",
        "colab_type": "code",
        "colab": {
          "autoexec": {
            "startup": false,
            "wait_interval": 0
          },
          "base_uri": "https://localhost:8080/",
          "height": 0
        },
        "outputId": "7086d615-58ec-4d40-c4e4-ff3621e2d087",
        "executionInfo": {
          "status": "ok",
          "timestamp": 1530026911353,
          "user_tz": 420,
          "elapsed": 363,
          "user": {
            "displayName": "Leifur Sigurdsson",
            "photoUrl": "https://lh3.googleusercontent.com/a/default-user=s128",
            "userId": "111769075670530589535"
          }
        }
      },
      "cell_type": "code",
      "source": [
        "subinc1 = subinc[['age', 'sex', 'height', 'income']]\n",
        "subinc1 = subinc1[subinc1['income'] < 300000]"
      ],
      "execution_count": 16,
      "outputs": []
    },
    {
      "metadata": {
        "id": "dKE_T-W9VOLP",
        "colab_type": "code",
        "colab": {
          "autoexec": {
            "startup": false,
            "wait_interval": 0
          },
          "base_uri": "https://localhost:8080/",
          "height": 294
        },
        "outputId": "67ee457b-e826-4e14-a595-b0b7a5f66084",
        "executionInfo": {
          "status": "ok",
          "timestamp": 1529701459555,
          "user_tz": 420,
          "elapsed": 1442,
          "user": {
            "displayName": "Leifur Sigurdsson",
            "photoUrl": "https://lh3.googleusercontent.com/a/default-user=s128",
            "userId": "111769075670530589535"
          }
        }
      },
      "cell_type": "code",
      "source": [
        "# After noticing a slight correlation between height and increased income I graphed by sex\n",
        "\n",
        "\n",
        "slope, intercept, r_value, p_value, std_err = stats.linregress(subinc['income'],subinc['height'])\n",
        "\n",
        "# use line_kws to set line label for legend\n",
        "ax = sns.regplot(x=\"income\", y=\"height\", data=subinc, color='k', \n",
        " line_kws={'label':\"y={0:.1f}x+{1:.1f}\".format(slope,intercept)})\n",
        "\n",
        "# plot legend\n",
        "plt.title('Income VS Height')\n",
        "ax.legend()\n",
        "\n",
        "plt.show()"
      ],
      "execution_count": 53,
      "outputs": [
        {
          "output_type": "display_data",
          "data": {
            "image/png": "[encoded data removed]",
            "text/plain": [
              "<matplotlib.figure.Figure at 0x7f22f0035a90>"
            ]
          },
          "metadata": {
            "tags": []
          }
        }
      ]
    },
    {
      "metadata": {
        "id": "WOvRrRO2Xj8t",
        "colab_type": "code",
        "colab": {
          "autoexec": {
            "startup": false,
            "wait_interval": 0
          },
          "base_uri": "https://localhost:8080/",
          "height": 294
        },
        "outputId": "5540e61e-1428-42d3-fec3-2e9e7cd9cc50",
        "executionInfo": {
          "status": "ok",
          "timestamp": 1529701414761,
          "user_tz": 420,
          "elapsed": 798,
          "user": {
            "displayName": "Leifur Sigurdsson",
            "photoUrl": "https://lh3.googleusercontent.com/a/default-user=s128",
            "userId": "111769075670530589535"
          }
        }
      },
      "cell_type": "code",
      "source": [
        "# Only female we see a slight increase\n",
        "subincf = subinc[['age', 'sex', 'height', 'income']].dropna()\n",
        "subincf = subincf[subincf['sex'] == 'f']\n",
        "\n",
        "slope, intercept, r_value, p_value, std_err = stats.linregress(subincf['income'],subincf['height'])\n",
        "\n",
        "# use line_kws to set line label for legend\n",
        "ax = sns.regplot(x=\"income\", y=\"height\", data=subincf, color='deeppink', \n",
        " line_kws={'label':\"y={0:.1f}x+{1:.1f}\".format(slope,intercept)})\n",
        "\n",
        "# plot legend\n",
        "plt.title('Women Income VS Height')\n",
        "ax.legend()\n",
        "\n",
        "plt.show()\n"
      ],
      "execution_count": 51,
      "outputs": [
        {
          "output_type": "display_data",
          "data": {
            "image/png": "[encoded data removed]",
            "text/plain": [
              "<matplotlib.figure.Figure at 0x7f22f0052c88>"
            ]
          },
          "metadata": {
            "tags": []
          }
        }
      ]
    },
    {
      "metadata": {
        "id": "e2DlgQ6iXzwH",
        "colab_type": "code",
        "colab": {
          "autoexec": {
            "startup": false,
            "wait_interval": 0
          },
          "base_uri": "https://localhost:8080/",
          "height": 294
        },
        "outputId": "b0f936a5-89dc-4e5e-acd6-87384721ca82",
        "executionInfo": {
          "status": "ok",
          "timestamp": 1529701436923,
          "user_tz": 420,
          "elapsed": 1120,
          "user": {
            "displayName": "Leifur Sigurdsson",
            "photoUrl": "https://lh3.googleusercontent.com/a/default-user=s128",
            "userId": "111769075670530589535"
          }
        }
      },
      "cell_type": "code",
      "source": [
        "# only male we see a slight increase\n",
        "subincm = subinc[['age', 'sex', 'height', 'income']].dropna()\n",
        "subincm = subincm[subincm['sex'] == 'm']\n",
        "\n",
        "\n",
        "slope, intercept, r_value, p_value, std_err = stats.linregress(subincm['income'],subincm['height'])\n",
        "\n",
        "# use line_kws to set line label for legend\n",
        "ax = sns.regplot(x=\"income\", y=\"height\", data=subincm, color='b', \n",
        " line_kws={'label':\"y={0:.1f}x+{1:.1f}\".format(slope,intercept)})\n",
        "\n",
        "# plot legend\n",
        "plt.title('Men Income VS Height')\n",
        "ax.legend()\n",
        "\n",
        "plt.show()"
      ],
      "execution_count": 52,
      "outputs": [
        {
          "output_type": "display_data",
          "data": {
            "image/png": "[encoded data removed]",
            "text/plain": [
              "<matplotlib.figure.Figure at 0x7f22f016ada0>"
            ]
          },
          "metadata": {
            "tags": []
          }
        }
      ]
    },
    {
      "metadata": {
        "id": "7qyn5gaNvF4S",
        "colab_type": "code",
        "colab": {
          "autoexec": {
            "startup": false,
            "wait_interval": 0
          },
          "base_uri": "https://localhost:8080/",
          "height": 279
        },
        "outputId": "afb0e98c-6119-4d22-f201-e0dfab050177",
        "executionInfo": {
          "status": "ok",
          "timestamp": 1529700141449,
          "user_tz": 420,
          "elapsed": 482,
          "user": {
            "displayName": "Leifur Sigurdsson",
            "photoUrl": "https://lh3.googleusercontent.com/a/default-user=s128",
            "userId": "111769075670530589535"
          }
        }
      },
      "cell_type": "code",
      "source": [
        "sns.kdeplot(subinc.income[df_okc.sex=='m'], label='men', shade=True, color='deeppink')\n",
        "sns.kdeplot(subinc.income[df_okc.sex=='f'], label='women', shade=True, color='b')\n",
        "plt.xlabel('Income');"
      ],
      "execution_count": 30,
      "outputs": [
        {
          "output_type": "display_data",
          "data": {
            "image/png": "[encoded data removed]",
            "text/plain": [
              "<matplotlib.figure.Figure at 0x7f22f04a4588>"
            ]
          },
          "metadata": {
            "tags": []
          }
        }
      ]
    },
    {
      "metadata": {
        "id": "Icngr61mtCtH",
        "colab_type": "code",
        "colab": {
          "autoexec": {
            "startup": false,
            "wait_interval": 0
          },
          "base_uri": "https://localhost:8080/",
          "height": 17
        },
        "outputId": "6226e93b-a2a5-4316-b247-483aeeab370c",
        "executionInfo": {
          "status": "ok",
          "timestamp": 1530125704989,
          "user_tz": 420,
          "elapsed": 353,
          "user": {
            "displayName": "Leifur Sigurdsson",
            "photoUrl": "https://lh3.googleusercontent.com/a/default-user=s128",
            "userId": "111769075670530589535"
          }
        }
      },
      "cell_type": "code",
      "source": [
        ""
      ],
      "execution_count": 0,
      "outputs": []
    }
  ]
}